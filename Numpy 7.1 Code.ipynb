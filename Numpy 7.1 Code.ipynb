import numpy as np
arr=np.array([3, 5, 7, 2, 8, 10, 11, 65, 72, 81, 99, 100, 150])
print('\n')
print('Given Array: ',arr)
print('\n')
y=3
N=len(arr)-y+1  ### Total Sequence or moving iteration

print('RESULT')
print('-'*20)
x=np.sum(np.array([arr[i:y+i] for i in range(N)]),axis=1) / y  ### Using array slicing and sum function in numpy
for i in x:
	print(round(i,2))
	
